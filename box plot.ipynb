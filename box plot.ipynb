{
 "cells": [
  {
   "cell_type": "code",
   "execution_count": 25,
   "metadata": {
    "collapsed": false
   },
   "outputs": [],
   "source": [
    "import glob\n",
    "import csv\n",
    "import numpy as np\n",
    "import matplotlib.pyplot as plt\n",
    "\n",
    "x = []\n",
    "y = []\n",
    "path = \"/home/adaboo/Desktop/Masters/sem4/thesis/dataset for plots/activity recognition chest-mounted accelerometer/*.csv\"\n",
    "for fname in glob.glob(path):\n",
    "     \n",
    "    with open(fname) as csvfile:\n",
    "        readCSV = csv.reader(csvfile, delimiter=',')\n",
    "        for row in readCSV:\n",
    "            #print(row)\n",
    "            #print(row[0])\n",
    "            #print(row[1],row[2])\n",
    "            x.append(row[1])\n",
    "            y.append(row[2])\n",
    "            \n",
    "x = x[1:10]"
   ]
  },
  {
   "cell_type": "code",
   "execution_count": 27,
   "metadata": {
    "collapsed": false
   },
   "outputs": [],
   "source": [
    "import matplotlib.pyplot as plt\n",
    "\n",
    "L= [0.43,0.31,0.34,0.44,0.37,0.4,0.82,0.41,0.33,0.38,0.36,0.39,0.41,0.35,0.21,0.42,0.27,0.7,0.41,0.37,0.47,0.34,0.54,0.32,0.26,0.39,0.39,0.37,0.34,0.4,0.36,0.33,0.51,0.37,0.42,0.45,0.67,0.41,0.35,0.33,0.56,0.4,0.48,0.8,0.4,0.4,0.66,0.34,0.34,0.42,0.5,0.35,0.38,0.36,0.69,0.32]\n",
    "Q = [1,2,3]\n",
    "plt.boxplot(L)\n",
    "plt.show()"
   ]
  },
  {
   "cell_type": "code",
   "execution_count": 28,
   "metadata": {
    "collapsed": true
   },
   "outputs": [],
   "source": [
    "import matplotlib.pyplot as plt\n",
    "import numpy as np\n",
    "\n",
    "import plotly.plotly as py\n",
    "import plotly.tools as tls\n",
    "# Learn about API authentication here: https://plot.ly/python/getting-started\n",
    "# Find your api_key here: https://plot.ly/settings/api\n",
    "\n",
    "spread = np.random.rand(50) * 100\n",
    "center = np.ones(25) * 50\n",
    "flier_high = np.random.rand(10) * 100 + 100\n",
    "flier_low = np.random.rand(10) * -100\n",
    "data = np.concatenate((spread, center, flier_high, flier_low), 0)\n",
    "\n",
    "mpl_fig = plt.figure()\n",
    "ax = mpl_fig.add_subplot(111)\n",
    "\n",
    "ax.boxplot(data)\n",
    "\n",
    "ax.set_xlabel('Data Points')\n",
    "ax.set_ylabel('Variance')\n",
    "\n",
    "plotly_fig = tls.mpl_to_plotly( mpl_fig )\n",
    "plot_url = py.plot(plotly_fig, filename='boxplot-basic')"
   ]
  },
  {
   "cell_type": "code",
   "execution_count": null,
   "metadata": {
    "collapsed": true
   },
   "outputs": [],
   "source": []
  }
 ],
 "metadata": {
  "kernelspec": {
   "display_name": "Python [conda root]",
   "language": "python",
   "name": "conda-root-py"
  },
  "language_info": {
   "codemirror_mode": {
    "name": "ipython",
    "version": 3
   },
   "file_extension": ".py",
   "mimetype": "text/x-python",
   "name": "python",
   "nbconvert_exporter": "python",
   "pygments_lexer": "ipython3",
   "version": "3.5.2"
  }
 },
 "nbformat": 4,
 "nbformat_minor": 2
}
