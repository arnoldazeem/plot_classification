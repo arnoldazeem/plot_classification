{
 "cells": [
  {
   "cell_type": "code",
   "execution_count": 18,
   "metadata": {
    "collapsed": false
   },
   "outputs": [],
   "source": [
    "library(plotly)\n",
    "\n",
    "Sys.setenv(\"plotly_username\"=\"kumar05\")\n",
    "Sys.setenv(\"plotly_api_key\"=\"IW5WKDoNWeWWon8haT7r\")\n",
    "#py.sign_in('kumar05', 'IW5WKDoNWeWWon8haT7r')\n",
    "#py.sign_in('ashishbbhayani', '5czLDBg2FdjjsBd1JXLh')\n",
    "#py.sign_in('zanzy', '6tzTYqsLP9zeG91eamft')"
   ]
  },
  {
   "cell_type": "code",
   "execution_count": 19,
   "metadata": {
    "collapsed": false
   },
   "outputs": [
    {
     "data": {
      "text/html": [
       "<ol class=list-inline>\n",
       "\t<li>'ais.csv'</li>\n",
       "\t<li>'Angell.csv'</li>\n",
       "\t<li>'Baumann.csv'</li>\n",
       "\t<li>'Bfox.csv'</li>\n",
       "\t<li>'cane.csv'</li>\n",
       "\t<li>'carprice.csv'</li>\n",
       "\t<li>'Chirot.csv'</li>\n",
       "\t<li>'Davis.csv'</li>\n",
       "\t<li>'Ericksen.csv'</li>\n",
       "\t<li>'Florida.csv'</li>\n",
       "\t<li>'Highway1.csv'</li>\n",
       "\t<li>'Pottery.csv'</li>\n",
       "\t<li>'Prestige.csv'</li>\n",
       "\t<li>'salinity.csv'</li>\n",
       "\t<li>'urine.csv'</li>\n",
       "</ol>\n"
      ],
      "text/latex": [
       "\\begin{enumerate*}\n",
       "\\item 'ais.csv'\n",
       "\\item 'Angell.csv'\n",
       "\\item 'Baumann.csv'\n",
       "\\item 'Bfox.csv'\n",
       "\\item 'cane.csv'\n",
       "\\item 'carprice.csv'\n",
       "\\item 'Chirot.csv'\n",
       "\\item 'Davis.csv'\n",
       "\\item 'Ericksen.csv'\n",
       "\\item 'Florida.csv'\n",
       "\\item 'Highway1.csv'\n",
       "\\item 'Pottery.csv'\n",
       "\\item 'Prestige.csv'\n",
       "\\item 'salinity.csv'\n",
       "\\item 'urine.csv'\n",
       "\\end{enumerate*}\n"
      ],
      "text/markdown": [
       "1. 'ais.csv'\n",
       "2. 'Angell.csv'\n",
       "3. 'Baumann.csv'\n",
       "4. 'Bfox.csv'\n",
       "5. 'cane.csv'\n",
       "6. 'carprice.csv'\n",
       "7. 'Chirot.csv'\n",
       "8. 'Davis.csv'\n",
       "9. 'Ericksen.csv'\n",
       "10. 'Florida.csv'\n",
       "11. 'Highway1.csv'\n",
       "12. 'Pottery.csv'\n",
       "13. 'Prestige.csv'\n",
       "14. 'salinity.csv'\n",
       "15. 'urine.csv'\n",
       "\n",
       "\n"
      ],
      "text/plain": [
       " [1] \"ais.csv\"      \"Angell.csv\"   \"Baumann.csv\"  \"Bfox.csv\"     \"cane.csv\"    \n",
       " [6] \"carprice.csv\" \"Chirot.csv\"   \"Davis.csv\"    \"Ericksen.csv\" \"Florida.csv\" \n",
       "[11] \"Highway1.csv\" \"Pottery.csv\"  \"Prestige.csv\" \"salinity.csv\" \"urine.csv\"   "
      ]
     },
     "metadata": {},
     "output_type": "display_data"
    },
    {
     "name": "stdout",
     "output_type": "stream",
     "text": [
      "[1] \"X\"\n"
     ]
    },
    {
     "name": "stderr",
     "output_type": "stream",
     "text": [
      "Warning message:\n",
      "“No trace type specified and no positional attributes specified”No trace type specified:\n",
      "  Based on info supplied, a 'scatter' trace seems appropriate.\n",
      "  Read more about this trace type -> https://plot.ly/r/reference/#scatter\n",
      "No scatter mode specifed:\n",
      "  Setting the mode to markers\n",
      "  Read more about this attribute -> https://plot.ly/r/reference/#scatter-mode\n",
      "Warning message:\n",
      "“'scatter' objects don't have these attributes: ''\n",
      "Valid attributes include:\n",
      "'type', 'visible', 'showlegend', 'legendgroup', 'opacity', 'name', 'uid', 'ids', 'customdata', 'hoverinfo', 'hoverlabel', 'stream', 'x', 'x0', 'dx', 'y', 'y0', 'dy', 'text', 'hovertext', 'mode', 'hoveron', 'line', 'connectgaps', 'cliponaxis', 'fill', 'fillcolor', 'marker', 'textposition', 'textfont', 'r', 't', 'error_y', 'error_x', 'xaxis', 'yaxis', 'xcalendar', 'ycalendar', 'idssrc', 'customdatasrc', 'hoverinfosrc', 'xsrc', 'ysrc', 'textsrc', 'hovertextsrc', 'textpositionsrc', 'rsrc', 'tsrc', 'key', 'set', 'frame', 'transforms', '_isNestedKey', '_isSimpleKey', '_isGraticule'\n",
      "”Warning message:\n",
      "“No trace type specified and no positional attributes specified”No trace type specified:\n",
      "  Based on info supplied, a 'scatter' trace seems appropriate.\n",
      "  Read more about this trace type -> https://plot.ly/r/reference/#scatter\n",
      "No scatter mode specifed:\n",
      "  Setting the mode to markers\n",
      "  Read more about this attribute -> https://plot.ly/r/reference/#scatter-mode\n",
      "Warning message:\n",
      "“'scatter' objects don't have these attributes: ''\n",
      "Valid attributes include:\n",
      "'type', 'visible', 'showlegend', 'legendgroup', 'opacity', 'name', 'uid', 'ids', 'customdata', 'hoverinfo', 'hoverlabel', 'stream', 'x', 'x0', 'dx', 'y', 'y0', 'dy', 'text', 'hovertext', 'mode', 'hoveron', 'line', 'connectgaps', 'cliponaxis', 'fill', 'fillcolor', 'marker', 'textposition', 'textfont', 'r', 't', 'error_y', 'error_x', 'xaxis', 'yaxis', 'xcalendar', 'ycalendar', 'idssrc', 'customdatasrc', 'hoverinfosrc', 'xsrc', 'ysrc', 'textsrc', 'hovertextsrc', 'textpositionsrc', 'rsrc', 'tsrc', 'key', 'set', 'frame', 'transforms', '_isNestedKey', '_isSimpleKey', '_isGraticule'\n",
      "”Warning message:\n",
      "“No trace type specified and no positional attributes specified”No trace type specified:\n",
      "  Based on info supplied, a 'scatter' trace seems appropriate.\n",
      "  Read more about this trace type -> https://plot.ly/r/reference/#scatter\n",
      "No scatter mode specifed:\n",
      "  Setting the mode to markers\n",
      "  Read more about this attribute -> https://plot.ly/r/reference/#scatter-mode\n",
      "Warning message:\n",
      "“'scatter' objects don't have these attributes: ''\n",
      "Valid attributes include:\n",
      "'type', 'visible', 'showlegend', 'legendgroup', 'opacity', 'name', 'uid', 'ids', 'customdata', 'hoverinfo', 'hoverlabel', 'stream', 'x', 'x0', 'dx', 'y', 'y0', 'dy', 'text', 'hovertext', 'mode', 'hoveron', 'line', 'connectgaps', 'cliponaxis', 'fill', 'fillcolor', 'marker', 'textposition', 'textfont', 'r', 't', 'error_y', 'error_x', 'xaxis', 'yaxis', 'xcalendar', 'ycalendar', 'idssrc', 'customdatasrc', 'hoverinfosrc', 'xsrc', 'ysrc', 'textsrc', 'hovertextsrc', 'textpositionsrc', 'rsrc', 'tsrc', 'key', 'set', 'frame', 'transforms', '_isNestedKey', '_isSimpleKey', '_isGraticule'\n",
      "”"
     ]
    },
    {
     "ename": "ERROR",
     "evalue": "Error in FUN(X[[i]], ...): 'options' must be a fully named list, or have no names (NULL)\n",
     "output_type": "error",
     "traceback": [
      "Error in FUN(X[[i]], ...): 'options' must be a fully named list, or have no names (NULL)\nTraceback:\n",
      "1. export(p, file = filename)",
      "2. htmlwidgets::saveWidget(p, f)",
      "3. toHTML(widget, standalone = TRUE, knitrOptions = knitrOptions)",
      "4. htmltools::tagList(container(htmltools::tagList(x$prepend, widget_html(name = class(x)[1], \n .     package = attr(x, \"package\"), id = id, style = style, class = paste(class(x)[1], \n .         \"html-widget\"), width = sizeInfo$width, height = sizeInfo$height), \n .     x$append)), widget_data(x, id), if (!is.null(sizeInfo$runtime)) {\n .     tags$script(type = \"application/htmlwidget-sizing\", `data-for` = id, \n .         toJSON(sizeInfo$runtime))\n . })",
      "5. widget_data(x, id)",
      "6. toJSON(createPayload(x))",
      "7. createPayload(x)",
      "8. JSEvals(x)",
      "9. names(which(unlist(shouldEval(list)))) %||% list()",
      "10. which(unlist(shouldEval(list)))",
      "11. unlist(shouldEval(list))",
      "12. shouldEval(list)",
      "13. lapply(options, shouldEval)",
      "14. FUN(X[[i]], ...)",
      "15. lapply(options, shouldEval)",
      "16. FUN(X[[i]], ...)",
      "17. stop(\"'options' must be a fully named list, or have no names (NULL)\")"
     ]
    }
   ],
   "source": [
    "#in same folder\n",
    "setwd(\"/home/adaboo/Desktop/Masters/sem4/thesis/plot_classification/R/scatter/data\")\n",
    "\n",
    "out.file<-\"\"\n",
    "\n",
    "list.files(pattern=\".csv$\") # use the pattern argument to define a common pattern  for import files with regex. Here: .csv\n",
    "\n",
    "# create a list from these files\n",
    "list.filenames<-list.files(pattern=\".csv$\")\n",
    "\n",
    "#each file in the folder\n",
    "for(i in 1:length(list.filenames)){\n",
    "  \n",
    "  dataFrame <- read.table(list.filenames[i], header=TRUE, sep=\",\", stringsAsFactors=FALSE)\n",
    "  \n",
    "  numeric  <- dataFrame[sapply(dataFrame, is.numeric)]\n",
    "  title <- list.filenames[i]\n",
    "  title <- sub('\\\\..*$', '', basename(title))\n",
    "  \n",
    "  a=1\n",
    "  \n",
    "  b <-c(0,1,2,3,4,5,8,15,16,19)\n",
    "  \n",
    "  \n",
    "  for(n in 1:ncol(numeric)) {\n",
    "    #each row,column is set\n",
    "    \n",
    "    marker <- sample(b, 1)\n",
    "    \n",
    "    if(a < ncol(numeric)){\n",
    "      \n",
    "      x_label <- names(numeric[a])   \n",
    "      print(x_label)\n",
    "      x_axis <- numeric[1:10,a]\n",
    "      a <- a+1\n",
    "      \n",
    "      y_label <- names(numeric[a])   \n",
    "      y_axis <- numeric[1:10,a]  \n",
    "      \n",
    "      mypath <- file.path(\"/home/adaboo/Desktop/Masters/sem4/thesis/plot_classification/R/plots\")\n",
    "      \n",
    "      filename <- paste(\"ggplot_\" , x_label, \".png\", sep = \",\" )\n",
    "      \n",
    "      # Plot data using ggplot2\n",
    "      p <- plot_ly(data=numeric, aes(x=x_label, y=y_label))\n",
    "        \n",
    "      export(p, file = filename)  \n",
    "         \n",
    "          \n",
    "    }    \n",
    "    \n",
    "  }  \n",
    "}\n"
   ]
  },
  {
   "cell_type": "code",
   "execution_count": null,
   "metadata": {
    "collapsed": true
   },
   "outputs": [],
   "source": []
  }
 ],
 "metadata": {
  "anaconda-cloud": {},
  "kernelspec": {
   "display_name": "R",
   "language": "R",
   "name": "ir"
  },
  "language_info": {
   "codemirror_mode": "r",
   "file_extension": ".r",
   "mimetype": "text/x-r-source",
   "name": "R",
   "pygments_lexer": "r",
   "version": "3.4.2"
  }
 },
 "nbformat": 4,
 "nbformat_minor": 2
}
