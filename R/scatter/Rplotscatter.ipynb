{
 "cells": [
  {
   "cell_type": "code",
   "execution_count": 21,
   "metadata": {
    "collapsed": true
   },
   "outputs": [],
   "source": [
    "plotme <- function(x_axis, y_axis,title, x_label,y_label ){\n",
    " # plot function here  \n",
    "    plot(x_axis, y_axis, main=title, xlab=x_label, ylab=y_label, pch=5)    \n",
    "    \n",
    "    mypath <- file.path(\"/home/adaboo/Desktop/Masters/sem4/thesis/plot_classification/R\",\"R\",\"SAVEHERE\",paste(\"myplot_\", x_label, \".jpg\", sep = \"\"))\n",
    "    \n",
    "    jpg(file=mypath)\n",
    "    # mytitle = paste(\"my title is\", names[i])\n",
    "    plot(x,y, main = title)\n",
    "    \n",
    "    dev.off()\n",
    "\n",
    "}"
   ]
  },
  {
   "cell_type": "code",
   "execution_count": 5,
   "metadata": {
    "collapsed": false
   },
   "outputs": [
    {
     "name": "stderr",
     "output_type": "stream",
     "text": [
      "Loading required package: dplyr\n",
      "Warning message in library(package, lib.loc = lib.loc, character.only = TRUE, logical.return = TRUE, :\n",
      "“there is no package called ‘dplyr’”"
     ]
    },
    {
     "data": {
      "text/html": [
       "<ol class=list-inline>\n",
       "\t<li>'ais.csv'</li>\n",
       "\t<li>'Angell.csv'</li>\n",
       "\t<li>'Bfox.csv'</li>\n",
       "\t<li>'carprice.csv'</li>\n",
       "\t<li>'Chirot.csv'</li>\n",
       "\t<li>'cuckoohosts.csv'</li>\n",
       "\t<li>'Davis.csv'</li>\n",
       "\t<li>'Ericksen.csv'</li>\n",
       "\t<li>'Highway1.csv'</li>\n",
       "\t<li>'Pottery.csv'</li>\n",
       "\t<li>'Prestige.csv'</li>\n",
       "\t<li>'Quartet.csv'</li>\n",
       "\t<li>'salinity.csv'</li>\n",
       "</ol>\n"
      ],
      "text/latex": [
       "\\begin{enumerate*}\n",
       "\\item 'ais.csv'\n",
       "\\item 'Angell.csv'\n",
       "\\item 'Bfox.csv'\n",
       "\\item 'carprice.csv'\n",
       "\\item 'Chirot.csv'\n",
       "\\item 'cuckoohosts.csv'\n",
       "\\item 'Davis.csv'\n",
       "\\item 'Ericksen.csv'\n",
       "\\item 'Highway1.csv'\n",
       "\\item 'Pottery.csv'\n",
       "\\item 'Prestige.csv'\n",
       "\\item 'Quartet.csv'\n",
       "\\item 'salinity.csv'\n",
       "\\end{enumerate*}\n"
      ],
      "text/markdown": [
       "1. 'ais.csv'\n",
       "2. 'Angell.csv'\n",
       "3. 'Bfox.csv'\n",
       "4. 'carprice.csv'\n",
       "5. 'Chirot.csv'\n",
       "6. 'cuckoohosts.csv'\n",
       "7. 'Davis.csv'\n",
       "8. 'Ericksen.csv'\n",
       "9. 'Highway1.csv'\n",
       "10. 'Pottery.csv'\n",
       "11. 'Prestige.csv'\n",
       "12. 'Quartet.csv'\n",
       "13. 'salinity.csv'\n",
       "\n",
       "\n"
      ],
      "text/plain": [
       " [1] \"ais.csv\"         \"Angell.csv\"      \"Bfox.csv\"        \"carprice.csv\"   \n",
       " [5] \"Chirot.csv\"      \"cuckoohosts.csv\" \"Davis.csv\"       \"Ericksen.csv\"   \n",
       " [9] \"Highway1.csv\"    \"Pottery.csv\"     \"Prestige.csv\"    \"Quartet.csv\"    \n",
       "[13] \"salinity.csv\"   "
      ]
     },
     "metadata": {},
     "output_type": "display_data"
    }
   ],
   "source": [
    "#https://vincentarelbundock.github.io/Rdatasets/datasets.html\n",
    "#http://geog.uoregon.edu/GeogR/topics/scatterplots.html\n",
    "\n",
    "require(dplyr)\n",
    "#in same folder\n",
    "setwd(\"/home/adaboo/Desktop/Masters/sem4/thesis/plot_classification/R/scatter/data\")\n",
    "\n",
    "out.file<-\"\"\n",
    "\n",
    "list.files(pattern=\".csv$\") # use the pattern argument to define a common pattern  for import files with regex. Here: .csv\n",
    " \n",
    "# create a list from these files\n",
    "list.filenames<-list.files(pattern=\".csv$\")\n",
    "\n",
    "#each file in the folder\n",
    "for(i in 1:length(list.filenames)){\n",
    "    \n",
    "  dataFrame <- read.table(list.filenames[i], header=TRUE, sep=\",\", stringsAsFactors=FALSE)\n",
    "    \n",
    "  #numeric <- dataFrame[,numerics]\n",
    "  #numeric <- select_if(dataFrame, is_numeric)\n",
    "  numeric  <- dataFrame[sapply(dataFrame, is.numeric)]\n",
    "  title <- list.filenames[i]\n",
    "   \n",
    "   a=1\n",
    "    \n",
    "   b <-c(0,1,2,3,4,5,8,15,16,19)\n",
    "     \n",
    "    \n",
    "   for(n in 1:ncol(numeric)) {\n",
    "            #each row,column is set\n",
    "       \n",
    "            marker <- sample(b, 1)\n",
    "                \n",
    "            if(a < ncol(numeric)){\n",
    "        \n",
    "            x_label <- names(numeric[a])    \n",
    "            x_axis <- numeric[1:20,a]\n",
    "            a <- a+1\n",
    "            \n",
    "            y_label <- names(numeric[a])   \n",
    "            y_axis <- numeric[1:20,a]  \n",
    "                \n",
    "                \n",
    "             #https://medium.com/@sntaus/image-classification-using-deep-learning-hello-world-tutorial-a47d02fd9db1\n",
    "                      \n",
    "            mypath <- file.path(\"/home/adaboo/Desktop/Masters/sem4/thesis/plot_classification/R/plots\",paste(\"myplotscatter_\", x_label, \".jpg\", sep = \"\"))\n",
    "            \n",
    "            jpeg(file=mypath)\n",
    "              \n",
    "            #now <- plotme    \n",
    "            plot(x_axis, y_axis, main=title,xlab=x_label, ylab= y_label,pch=marker) \n",
    "                \n",
    "            dev.off()\n",
    "\n",
    "            }    \n",
    "           \n",
    "       }  \n",
    "}"
   ]
  },
  {
   "cell_type": "code",
   "execution_count": 7,
   "metadata": {
    "collapsed": false
   },
   "outputs": [
    {
     "name": "stderr",
     "output_type": "stream",
     "text": [
      "The following objects are masked from mtcars (pos = 3):\n",
      "\n",
      "    am, carb, cyl, disp, drat, gear, hp, mpg, qsec, vs, wt\n",
      "\n"
     ]
    },
    {
     "data": {
      "text/html": [
       "<strong>png:</strong> 2"
      ],
      "text/latex": [
       "\\textbf{png:} 2"
      ],
      "text/markdown": [
       "**png:** 2"
      ],
      "text/plain": [
       "png \n",
       "  2 "
      ]
     },
     "metadata": {},
     "output_type": "display_data"
    }
   ],
   "source": [
    "#plot(x_axis, y_axis, main=\"Scatterplot Example\", xlab=x_label, ylab=y_label, pch=19) \n",
    "     \n",
    "# Simple Scatterplot\n",
    "attach(mtcars)\n",
    "\n",
    " mypath <- file.path(\"/home/adaboo/Desktop/Masters/sem4/thesis/plot_classification/R/plots\",paste(\"myplotscatterdef_\", x_label, \".jpg\", sep = \"\"))\n",
    "            \n",
    "            jpeg(file=mypath)\n",
    "              \n",
    "           plot(wt, mpg, main=\"Scatterplot Example\", xlab=\"Car Weight \", ylab=\"Miles Per Gallon \", pch=19)\n",
    "        \n",
    "                \n",
    "            dev.off()\n"
   ]
  },
  {
   "cell_type": "code",
   "execution_count": 8,
   "metadata": {
    "collapsed": false
   },
   "outputs": [
    {
     "data": {
      "text/html": [
       "<strong>png:</strong> 2"
      ],
      "text/latex": [
       "\\textbf{png:} 2"
      ],
      "text/markdown": [
       "**png:** 2"
      ],
      "text/plain": [
       "png \n",
       "  2 "
      ]
     },
     "metadata": {},
     "output_type": "display_data"
    }
   ],
   "source": [
    "duration = faithful$eruptions      # the eruption durations \n",
    "waiting = faithful$waiting         # the waiting interval \n",
    "\n",
    "\n",
    "mypath <- file.path(\"/home/adaboo/Desktop/Masters/sem4/thesis/plot_classification/R/plots\",paste(\"myplotscatterdef_\", x_label, \".jpg\", sep = \"\"))\n",
    "            \n",
    "            jpeg(file=mypath)\n",
    "              \n",
    "           plot(duration, waiting,            # plot the variables \n",
    "           xlab=\"Eruption duration\",        # x−axis label \n",
    "           ylab=\"Time waited\")              # y−axis label\n",
    "                \n",
    "            dev.off()\n",
    "\n",
    "\n",
    "\n"
   ]
  },
  {
   "cell_type": "code",
   "execution_count": null,
   "metadata": {
    "collapsed": true
   },
   "outputs": [],
   "source": []
  }
 ],
 "metadata": {
  "anaconda-cloud": {},
  "kernelspec": {
   "display_name": "R",
   "language": "R",
   "name": "ir"
  },
  "language_info": {
   "codemirror_mode": "r",
   "file_extension": ".r",
   "mimetype": "text/x-r-source",
   "name": "R",
   "pygments_lexer": "r",
   "version": "3.4.2"
  }
 },
 "nbformat": 4,
 "nbformat_minor": 2
}
