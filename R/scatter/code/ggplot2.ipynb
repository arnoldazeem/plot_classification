{
 "cells": [
  {
   "cell_type": "code",
   "execution_count": 1,
   "metadata": {
    "collapsed": false
   },
   "outputs": [
    {
     "name": "stderr",
     "output_type": "stream",
     "text": [
      "Loading required package: ggplot2\n",
      "\n",
      "Attaching package: ‘plotly’\n",
      "\n",
      "The following object is masked from ‘package:ggplot2’:\n",
      "\n",
      "    last_plot\n",
      "\n",
      "The following object is masked from ‘package:stats’:\n",
      "\n",
      "    filter\n",
      "\n",
      "The following object is masked from ‘package:graphics’:\n",
      "\n",
      "    layout\n",
      "\n"
     ]
    }
   ],
   "source": [
    "library(plotly)\n",
    "\n",
    "Sys.setenv(\"plotly_username\"=\"kumar05\")\n",
    "Sys.setenv(\"plotly_api_key\"=\"IW5WKDoNWeWWon8haT7r\")\n",
    "#py.sign_in('kumar05', 'IW5WKDoNWeWWon8haT7r')\n",
    "#py.sign_in('ashishbbhayani', '5czLDBg2FdjjsBd1JXLh')\n",
    "#py.sign_in('zanzy', '6tzTYqsLP9zeG91eamft')\n"
   ]
  },
  {
   "cell_type": "code",
   "execution_count": 4,
   "metadata": {
    "collapsed": false
   },
   "outputs": [
    {
     "ename": "ERROR",
     "evalue": "Error in library(webshot): there is no package called ‘webshot’\n",
     "output_type": "error",
     "traceback": [
      "Error in library(webshot): there is no package called ‘webshot’\nTraceback:\n",
      "1. library(webshot)",
      "2. stop(txt, domain = NA)"
     ]
    }
   ],
   "source": [
    "library(webshot)"
   ]
  },
  {
   "cell_type": "code",
   "execution_count": 5,
   "metadata": {
    "collapsed": false
   },
   "outputs": [
    {
     "data": {
      "text/html": [
       "<ol class=list-inline>\n",
       "\t<li>'ais.csv'</li>\n",
       "\t<li>'Angell.csv'</li>\n",
       "\t<li>'Baumann.csv'</li>\n",
       "\t<li>'Bfox.csv'</li>\n",
       "\t<li>'cane.csv'</li>\n",
       "\t<li>'carprice.csv'</li>\n",
       "\t<li>'Chirot.csv'</li>\n",
       "\t<li>'Davis.csv'</li>\n",
       "\t<li>'Ericksen.csv'</li>\n",
       "\t<li>'Florida.csv'</li>\n",
       "\t<li>'Highway1.csv'</li>\n",
       "\t<li>'Pottery.csv'</li>\n",
       "\t<li>'Prestige.csv'</li>\n",
       "\t<li>'salinity.csv'</li>\n",
       "\t<li>'urine.csv'</li>\n",
       "</ol>\n"
      ],
      "text/latex": [
       "\\begin{enumerate*}\n",
       "\\item 'ais.csv'\n",
       "\\item 'Angell.csv'\n",
       "\\item 'Baumann.csv'\n",
       "\\item 'Bfox.csv'\n",
       "\\item 'cane.csv'\n",
       "\\item 'carprice.csv'\n",
       "\\item 'Chirot.csv'\n",
       "\\item 'Davis.csv'\n",
       "\\item 'Ericksen.csv'\n",
       "\\item 'Florida.csv'\n",
       "\\item 'Highway1.csv'\n",
       "\\item 'Pottery.csv'\n",
       "\\item 'Prestige.csv'\n",
       "\\item 'salinity.csv'\n",
       "\\item 'urine.csv'\n",
       "\\end{enumerate*}\n"
      ],
      "text/markdown": [
       "1. 'ais.csv'\n",
       "2. 'Angell.csv'\n",
       "3. 'Baumann.csv'\n",
       "4. 'Bfox.csv'\n",
       "5. 'cane.csv'\n",
       "6. 'carprice.csv'\n",
       "7. 'Chirot.csv'\n",
       "8. 'Davis.csv'\n",
       "9. 'Ericksen.csv'\n",
       "10. 'Florida.csv'\n",
       "11. 'Highway1.csv'\n",
       "12. 'Pottery.csv'\n",
       "13. 'Prestige.csv'\n",
       "14. 'salinity.csv'\n",
       "15. 'urine.csv'\n",
       "\n",
       "\n"
      ],
      "text/plain": [
       " [1] \"ais.csv\"      \"Angell.csv\"   \"Baumann.csv\"  \"Bfox.csv\"     \"cane.csv\"    \n",
       " [6] \"carprice.csv\" \"Chirot.csv\"   \"Davis.csv\"    \"Ericksen.csv\" \"Florida.csv\" \n",
       "[11] \"Highway1.csv\" \"Pottery.csv\"  \"Prestige.csv\" \"salinity.csv\" \"urine.csv\"   "
      ]
     },
     "metadata": {},
     "output_type": "display_data"
    },
    {
     "name": "stdout",
     "output_type": "stream",
     "text": [
      "[1] \"X\"\n"
     ]
    },
    {
     "ename": "ERROR",
     "evalue": "Error: Package `webshot` required for `export`.\nPlease install and try again.\n",
     "output_type": "error",
     "traceback": [
      "Error: Package `webshot` required for `export`.\nPlease install and try again.\nTraceback:\n",
      "1. export(p, file = filename)",
      "2. try_library(\"webshot\", \"export\")",
      "3. stop(\"Package `\", pkg, \"` required\", if (!is.null(fun)) paste0(\" for `\", \n .     fun, \"`\"), \".\\n\", \"Please install and try again.\", call. = FALSE)"
     ]
    }
   ],
   "source": [
    "#in same folder\n",
    "setwd(\"/home/adaboo/Desktop/Masters/sem4/thesis/plot_classification/R/scatter/data\")\n",
    "\n",
    "out.file<-\"\"\n",
    "\n",
    "list.files(pattern=\".csv$\") # use the pattern argument to define a common pattern  for import files with regex. Here: .csv\n",
    "\n",
    "# create a list from these files\n",
    "list.filenames<-list.files(pattern=\".csv$\")\n",
    "\n",
    "#each file in the folder\n",
    "for(i in 1:length(list.filenames)){\n",
    "  \n",
    "  dataFrame <- read.table(list.filenames[i], header=TRUE, sep=\",\", stringsAsFactors=FALSE)\n",
    "  \n",
    "  numeric  <- dataFrame[sapply(dataFrame, is.numeric)]\n",
    "  title <- list.filenames[i]\n",
    "  title <- sub('\\\\..*$', '', basename(title))\n",
    "  \n",
    "  a=1\n",
    "  \n",
    "  b <-c(0,1,2,3,4,5,8,15,16,19)\n",
    "  \n",
    "  \n",
    "  for(n in 1:ncol(numeric)) {\n",
    "    #each row,column is set\n",
    "    \n",
    "    marker <- sample(b, 1)\n",
    "    \n",
    "    if(a < ncol(numeric)){\n",
    "      \n",
    "      x_label <- names(numeric[a])   \n",
    "      print(x_label)\n",
    "      x_axis <- numeric[1:10,a]\n",
    "      a <- a+1\n",
    "      \n",
    "      y_label <- names(numeric[a])   \n",
    "      y_axis <- numeric[1:10,a]  \n",
    "      \n",
    "      mypath <- file.path(\"/home/adaboo/Desktop/Masters/sem4/thesis/plot_classification/R/plots\")\n",
    "      \n",
    "      filename <- paste(\"ggplot_\" , x_label, \".png\", sep = \",\" )\n",
    "      \n",
    "      # Plot data using ggplot2\n",
    "      p <- plot_ly(x=x_axis, y=y_axis,type = 'scatter',mode = 'markers')\n",
    "        \n",
    "      export(p, file = filename)  \n",
    "        \n",
    "         \n",
    "          \n",
    "    }    \n",
    "    \n",
    "  }  \n",
    "}\n"
   ]
  },
  {
   "cell_type": "code",
   "execution_count": 7,
   "metadata": {
    "collapsed": false
   },
   "outputs": [
    {
     "name": "stderr",
     "output_type": "stream",
     "text": [
      "Installing package into ‘/home/adaboo/R/x86_64-pc-linux-gnu-library/3.4’\n",
      "(as ‘lib’ is unspecified)\n",
      "Warning message in install.packages(\"processx\"):\n",
      "“installation of package ‘processx’ had non-zero exit status”"
     ]
    },
    {
     "ename": "ERROR",
     "evalue": "Error in library(processx): there is no package called ‘processx’\n",
     "output_type": "error",
     "traceback": [
      "Error in library(processx): there is no package called ‘processx’\nTraceback:\n",
      "1. library(processx)",
      "2. stop(txt, domain = NA)"
     ]
    }
   ],
   "source": [
    "install.packages(\"processx\")\n",
    "library(processx)"
   ]
  },
  {
   "cell_type": "code",
   "execution_count": 9,
   "metadata": {
    "collapsed": false
   },
   "outputs": [
    {
     "ename": "ERROR",
     "evalue": "Error in library(webshot): there is no package called ‘webshot’\n",
     "output_type": "error",
     "traceback": [
      "Error in library(webshot): there is no package called ‘webshot’\nTraceback:\n",
      "1. library(webshot)",
      "2. stop(txt, domain = NA)"
     ]
    }
   ],
   "source": [
    ".libPaths(c('/home/adaboo/R/x86_64-pc-linux-gnu-library/3.4', '/home/adaboo/anaconda3/envs/my-r-env/lib/R/library'))\n",
    "library(webshot)"
   ]
  },
  {
   "cell_type": "code",
   "execution_count": null,
   "metadata": {
    "collapsed": true
   },
   "outputs": [],
   "source": []
  }
 ],
 "metadata": {
  "anaconda-cloud": {},
  "kernelspec": {
   "display_name": "R [conda env:my-r-env]",
   "language": "R",
   "name": "conda-env-my-r-env-r"
  },
  "language_info": {
   "codemirror_mode": "r",
   "file_extension": ".r",
   "mimetype": "text/x-r-source",
   "name": "R",
   "pygments_lexer": "r",
   "version": "3.4.3"
  }
 },
 "nbformat": 4,
 "nbformat_minor": 2
}
