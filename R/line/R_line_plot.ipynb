{
 "cells": [
  {
   "cell_type": "code",
   "execution_count": 10,
   "metadata": {
    "collapsed": false
   },
   "outputs": [
    {
     "name": "stderr",
     "output_type": "stream",
     "text": [
      "Loading required package: dplyr\n",
      "Warning message in library(package, lib.loc = lib.loc, character.only = TRUE, logical.return = TRUE, :\n",
      "“there is no package called ‘dplyr’”"
     ]
    },
    {
     "data": {
      "text/html": [
       "<ol class=list-inline>\n",
       "\t<li>'ais.csv'</li>\n",
       "\t<li>'Angell.csv'</li>\n",
       "\t<li>'Bfox.csv'</li>\n",
       "\t<li>'carprice.csv'</li>\n",
       "\t<li>'Chirot.csv'</li>\n",
       "\t<li>'cuckoohosts.csv'</li>\n",
       "\t<li>'Davis.csv'</li>\n",
       "\t<li>'Ericksen.csv'</li>\n",
       "\t<li>'Highway1.csv'</li>\n",
       "\t<li>'Pottery.csv'</li>\n",
       "\t<li>'Prestige.csv'</li>\n",
       "\t<li>'Quartet.csv'</li>\n",
       "\t<li>'salinity.csv'</li>\n",
       "</ol>\n"
      ],
      "text/latex": [
       "\\begin{enumerate*}\n",
       "\\item 'ais.csv'\n",
       "\\item 'Angell.csv'\n",
       "\\item 'Bfox.csv'\n",
       "\\item 'carprice.csv'\n",
       "\\item 'Chirot.csv'\n",
       "\\item 'cuckoohosts.csv'\n",
       "\\item 'Davis.csv'\n",
       "\\item 'Ericksen.csv'\n",
       "\\item 'Highway1.csv'\n",
       "\\item 'Pottery.csv'\n",
       "\\item 'Prestige.csv'\n",
       "\\item 'Quartet.csv'\n",
       "\\item 'salinity.csv'\n",
       "\\end{enumerate*}\n"
      ],
      "text/markdown": [
       "1. 'ais.csv'\n",
       "2. 'Angell.csv'\n",
       "3. 'Bfox.csv'\n",
       "4. 'carprice.csv'\n",
       "5. 'Chirot.csv'\n",
       "6. 'cuckoohosts.csv'\n",
       "7. 'Davis.csv'\n",
       "8. 'Ericksen.csv'\n",
       "9. 'Highway1.csv'\n",
       "10. 'Pottery.csv'\n",
       "11. 'Prestige.csv'\n",
       "12. 'Quartet.csv'\n",
       "13. 'salinity.csv'\n",
       "\n",
       "\n"
      ],
      "text/plain": [
       " [1] \"ais.csv\"         \"Angell.csv\"      \"Bfox.csv\"        \"carprice.csv\"   \n",
       " [5] \"Chirot.csv\"      \"cuckoohosts.csv\" \"Davis.csv\"       \"Ericksen.csv\"   \n",
       " [9] \"Highway1.csv\"    \"Pottery.csv\"     \"Prestige.csv\"    \"Quartet.csv\"    \n",
       "[13] \"salinity.csv\"   "
      ]
     },
     "metadata": {},
     "output_type": "display_data"
    }
   ],
   "source": [
    "require(dplyr)\n",
    "#in same folder\n",
    "setwd(\"/home/adaboo/Desktop/Masters/sem4/thesis/plot_classification/R/line/data\")\n",
    "\n",
    "out.file<-\"\"\n",
    "\n",
    "list.files(pattern=\".csv$\") # use the pattern argument to define a common pattern  for import files with regex. Here: .csv\n",
    " \n",
    "# create a list from these files\n",
    "list.filenames<-list.files(pattern=\".csv$\")\n",
    "\n",
    "#each file in the folder\n",
    "for(i in 1:length(list.filenames)){\n",
    "    \n",
    "  dataFrame <- read.table(list.filenames[i], header=TRUE, sep=\",\", stringsAsFactors=FALSE)\n",
    "    \n",
    "  #numeric <- dataFrame[,numerics]\n",
    "  #numeric <- select_if(dataFrame, is_numeric)\n",
    "  numeric  <- dataFrame[sapply(dataFrame, is.numeric)]\n",
    "  title <- list.filenames[i]\n",
    "   \n",
    "   a=1\n",
    "    \n",
    "   b <-c(0,1,2,3,4,5,8,15,16,19)\n",
    "    \n",
    "   lin <-c(\"l\",\"o\",\"b\",\"c\",\"h\")\n",
    "     \n",
    "    \n",
    "   for(n in 1:ncol(numeric)) {\n",
    "            #each row,column is set\n",
    "       \n",
    "            marker <- sample(b, 1)\n",
    "            lins <- sample(lin, 1)\n",
    "                \n",
    "            if(a < ncol(numeric)){\n",
    "        \n",
    "            x_label <- names(numeric[a])    \n",
    "            x_axis <- numeric[1:4,a]\n",
    "            a <- a+1\n",
    "            \n",
    "            y_label <- names(numeric[a])   \n",
    "            y_axis <- numeric[1:4,a]  \n",
    "                      \n",
    "            mypath <- file.path(\"/home/adaboo/Desktop/Masters/sem4/thesis/plot_classification/R/plots\",paste(\"myplotlineb_\", x_label, \".jpg\", sep = \"\"))\n",
    "            \n",
    "            jpeg(file=mypath)\n",
    "              \n",
    "            #now <- plotme    \n",
    "            plot(x_axis, y_axis,type=\"l\", main=title,xlab=x_label, ylab= y_label) \n",
    "                \n",
    "        \n",
    "            dev.off()\n",
    "\n",
    "            }    \n",
    "           \n",
    "       }  \n",
    "}"
   ]
  },
  {
   "cell_type": "code",
   "execution_count": null,
   "metadata": {
    "collapsed": true
   },
   "outputs": [],
   "source": []
  },
  {
   "cell_type": "code",
   "execution_count": null,
   "metadata": {
    "collapsed": true
   },
   "outputs": [],
   "source": []
  }
 ],
 "metadata": {
  "anaconda-cloud": {},
  "kernelspec": {
   "display_name": "R",
   "language": "R",
   "name": "ir"
  },
  "language_info": {
   "codemirror_mode": "r",
   "file_extension": ".r",
   "mimetype": "text/x-r-source",
   "name": "R",
   "pygments_lexer": "r",
   "version": "3.4.2"
  }
 },
 "nbformat": 4,
 "nbformat_minor": 2
}
