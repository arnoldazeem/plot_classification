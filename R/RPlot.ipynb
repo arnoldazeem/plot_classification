{
 "cells": [
  {
   "cell_type": "code",
   "execution_count": 1,
   "metadata": {
    "collapsed": false
   },
   "outputs": [
    {
     "name": "stderr",
     "output_type": "stream",
     "text": [
      "Loading required package: dplyr\n",
      "Warning message in library(package, lib.loc = lib.loc, character.only = TRUE, logical.return = TRUE, :\n",
      "“there is no package called ‘dplyr’”"
     ]
    },
    {
     "data": {
      "text/html": [
       "'iris.csv'"
      ],
      "text/latex": [
       "'iris.csv'"
      ],
      "text/markdown": [
       "'iris.csv'"
      ],
      "text/plain": [
       "[1] \"iris.csv\""
      ]
     },
     "metadata": {},
     "output_type": "display_data"
    }
   ],
   "source": [
    "require(dplyr)\n",
    "#in same folder\n",
    "setwd(\"/home/adaboo/Desktop/Masters/sem4/thesis/plot_classification/R\")\n",
    "\n",
    "out.file<-\"\"\n",
    "\n",
    "list.files(pattern=\".csv$\") # use the pattern argument to define a common pattern  for import files with regex. Here: .csv\n",
    " \n",
    "# create a list from these files\n",
    "list.filenames<-list.files(pattern=\".csv$\")\n",
    "\n",
    "#each file in the folder\n",
    "for(i in 1:length(list.filenames)){\n",
    "    \n",
    "  dataFrame <- read.table(list.filenames[i], header=TRUE, sep=\",\", stringsAsFactors=FALSE)\n",
    "    \n",
    "  #numeric <- dataFrame[,numerics]\n",
    "  #numeric <- select_if(dataFrame, is_numeric)\n",
    "  numeric  <- dataFrame[sapply(dataFrame, is.numeric)]\n",
    "  title <- list.filenames[i]\n",
    "   \n",
    "   a=1\n",
    "    \n",
    "   b <-c(0,1,2,3,4,5,8,15,16,19)\n",
    "     \n",
    "    \n",
    "   for(n in 1:ncol(numeric)) {\n",
    "            #each row,column is set\n",
    "       \n",
    "            marker <- sample(b, 1)\n",
    "                \n",
    "            if(a < ncol(numeric)){\n",
    "        \n",
    "            x_label <- names(numeric[a])    \n",
    "            x_axis <- numeric[1:10,a]\n",
    "            a <- a+1\n",
    "            \n",
    "            y_label <- names(numeric[a])   \n",
    "            y_axis <- numeric[1:10,a]  \n",
    "                      \n",
    "             mypath <- file.path(\"/home/adaboo/Desktop/Masters/sem4/thesis/plot_classification/R/plots\",paste(\"myplot_\", x_label, \".png\", sep = \"\"))\n",
    "            \n",
    "            png(file=mypath)\n",
    "              \n",
    "            #now <- plotme    \n",
    "            plot(x_axis, y_axis, main=title,xlab=x_label, ylab= y_label,pch=marker) \n",
    "                \n",
    "            dev.off()\n",
    "\n",
    "            }    \n",
    "           \n",
    "       }  \n",
    "}"
   ]
  },
  {
   "cell_type": "code",
   "execution_count": null,
   "metadata": {
    "collapsed": true
   },
   "outputs": [],
   "source": []
  }
 ],
 "metadata": {
  "anaconda-cloud": {},
  "kernelspec": {
   "display_name": "R",
   "language": "R",
   "name": "ir"
  },
  "language_info": {
   "codemirror_mode": "r",
   "file_extension": ".r",
   "mimetype": "text/x-r-source",
   "name": "R",
   "pygments_lexer": "r",
   "version": "3.4.2"
  }
 },
 "nbformat": 4,
 "nbformat_minor": 2
}
