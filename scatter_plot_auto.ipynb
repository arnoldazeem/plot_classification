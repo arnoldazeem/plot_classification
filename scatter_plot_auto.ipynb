{
 "cells": [
  {
   "cell_type": "code",
   "execution_count": 51,
   "metadata": {
    "collapsed": true
   },
   "outputs": [],
   "source": [
    "def plotfunction(x,y,x_axis,y_axis,name):\n",
    "    colors = (1,0,0)\n",
    "    #area = np.pi*3\n",
    "    # Plot\n",
    "    plt.scatter(x, y, c=colors, alpha=0.5)\n",
    "    plt.title(graph_name)\n",
    "    plt.xlabel(x_axis)\n",
    "    plt.ylabel(y_axis)\n",
    "    plt.grid(True)\n",
    "    plt.savefig('/home/arnold/Documents/thesis/scatter/'  + name)\n",
    "    #plt.savefig('books_read.png')\n",
    "  \n",
    "    #plt.show()\n",
    "    "
   ]
  },
  {
   "cell_type": "code",
   "execution_count": 52,
   "metadata": {},
   "outputs": [
    {
     "name": "stdout",
     "output_type": "stream",
     "text": [
      "not numeric\n",
      "not numeric\n",
      "not numeric\n",
      "not numeric\n",
      "not numeric\n",
      "not numeric\n"
     ]
    }
   ],
   "source": [
    "import glob\n",
    "import pandas as pd\n",
    "import os\n",
    "import matplotlib.pyplot as plt\n",
    "from pandas.api.types import is_string_dtype\n",
    "from pandas.api.types import is_numeric_dtype\n",
    "\n",
    "col_1 = 0\n",
    "path = \"/home/arnold/Documents/thesis/dataset/*.csv\"\n",
    "\n",
    "for fname in glob.glob(path):\n",
    "    df = (pd.read_csv(fname))\n",
    "    graph_name = (os.path.basename(fname))\n",
    "    \n",
    "    #whole of the csv file\n",
    "    for a in df:       \n",
    "        \n",
    "        if is_numeric_dtype(df.iloc[:20,col_1]):\n",
    "             x_axis = df.iloc[:20,col_1].abs().values.tolist()\n",
    "             #make them positve\n",
    "            \n",
    "             x_label = df.columns[col_1]\n",
    "             col_2 = col_1+1 \n",
    "\n",
    "             if (df.columns[-1] != df.columns[col_2]): \n",
    "                \n",
    "                 if is_numeric_dtype(df.iloc[:20,col_2]):\n",
    "                    y_axis = df.iloc[:20,col_2].abs().values.tolist()\n",
    "                    #make them positve\n",
    "                    \n",
    "                    y_label = df.columns[col_2]\n",
    "                    #plot\n",
    "                    plotfunction(x_axis,y_axis,x_label,y_label,x_label)\n",
    "                    col_1 = col_2\n",
    "                    \n",
    "                 else:\n",
    "                    print(\"not numeric\")\n",
    "                    col_2 = col_1+1\n",
    "                    \n",
    "             else:\n",
    "                #it was the last column\n",
    "                if is_numeric_dtype(df.iloc[:20,col_2]):\n",
    "                    y_axis = df.iloc[:20,col_2].values.tolist()\n",
    "                    y_label = df.columns[col_2]\n",
    "                    #plot\n",
    "                    plotfunction(x_axis,y_axis,x_label,x_label,x_label)\n",
    "\n",
    "                else:\n",
    "                    #last column but not numeric done               \n",
    "                    print(\"here\")\n",
    "\n",
    "        #not numeric\n",
    "        else:\n",
    "            col_1 +=1\n",
    "    #end"
   ]
  },
  {
   "cell_type": "code",
   "execution_count": null,
   "metadata": {
    "collapsed": true
   },
   "outputs": [],
   "source": []
  }
 ],
 "metadata": {
  "kernelspec": {
   "display_name": "Python 3",
   "language": "python",
   "name": "python3"
  },
  "language_info": {
   "codemirror_mode": {
    "name": "ipython",
    "version": 3
   },
   "file_extension": ".py",
   "mimetype": "text/x-python",
   "name": "python",
   "nbconvert_exporter": "python",
   "pygments_lexer": "ipython3",
   "version": "3.6.3"
  }
 },
 "nbformat": 4,
 "nbformat_minor": 2
}
