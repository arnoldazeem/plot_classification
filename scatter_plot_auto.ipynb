{
 "cells": [
  {
   "cell_type": "code",
   "execution_count": 25,
   "metadata": {},
   "outputs": [
    {
     "data": {
      "image/png": "[encoded data removed]",
      "text/plain": [
       "<matplotlib.figure.Figure at 0x7f5932feccf8>"
      ]
     },
     "metadata": {},
     "output_type": "display_data"
    }
   ],
   "source": [
    "import glob\n",
    "import pandas as pd\n",
    "import os\n",
    "import matplotlib.pyplot as plt\n",
    "\n",
    "path = \"/home/arnold/Documents/thesis/dataset/*.csv\"\n",
    "\n",
    "for fname in glob.glob(path):\n",
    "    df = (pd.read_csv(fname))\n",
    "    \n",
    "    x =  df.iloc[:20,1].drop_duplicates().values.tolist()\n",
    "    y =  df.iloc[:20,2].drop_duplicates().values.tolist()\n",
    "    \n",
    "    x_axis = df.columns[1]\n",
    "    y_axis = df.columns[2]\n",
    "    \n",
    "    graph_name = (os.path.basename(fname))\n",
    "    \n",
    "    \n",
    "    colors = (1,0,0)\n",
    "    #area = np.pi*3\n",
    "    # Plot\n",
    "    plt.scatter(x, y, c=colors, alpha=0.5)\n",
    "    plt.title(graph_name)\n",
    "    plt.xlabel(x_axis)\n",
    "    plt.ylabel(y_axis)\n",
    "    plt.show()\n",
    "    "
   ]
  },
  {
   "cell_type": "code",
   "execution_count": null,
   "metadata": {
    "collapsed": true
   },
   "outputs": [],
   "source": []
  }
 ],
 "metadata": {
  "kernelspec": {
   "display_name": "Python 3",
   "language": "python",
   "name": "python3"
  },
  "language_info": {
   "codemirror_mode": {
    "name": "ipython",
    "version": 3
   },
   "file_extension": ".py",
   "mimetype": "text/x-python",
   "name": "python",
   "nbconvert_exporter": "python",
   "pygments_lexer": "ipython3",
   "version": "3.6.3"
  }
 },
 "nbformat": 4,
 "nbformat_minor": 2
}
