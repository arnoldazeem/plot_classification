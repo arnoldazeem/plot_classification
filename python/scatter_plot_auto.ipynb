{
 "cells": [
  {
   "cell_type": "code",
   "execution_count": 2,
   "metadata": {
    "collapsed": true
   },
   "outputs": [],
   "source": [
    "def plotfunction(x,y,x_axis,y_axis,name):\n",
    "    colors = (1,0,0)\n",
    "    #area = np.pi*3\n",
    "    # Plot\n",
    "    plt.scatter(x, y, c=colors, alpha=0.5)\n",
    "    plt.title(graph_name)\n",
    "    plt.xlabel(x_axis)\n",
    "    plt.ylabel(y_axis)\n",
    "    plt.grid(True)\n",
    "    plt.savefig('/home/arnold/Documents/thesis/scatter/'  + name)\n",
    "    #plt.savefig('books_read.png')\n",
    "  \n",
    "    #plt.show()\n",
    "    "
   ]
  },
  {
   "cell_type": "code",
   "execution_count": 1,
   "metadata": {
    "collapsed": false
   },
   "outputs": [
    {
     "ename": "NameError",
     "evalue": "name 'np' is not defined",
     "output_type": "error",
     "traceback": [
      "\u001b[0;31m---------------------------------------------------------------------------\u001b[0m",
      "\u001b[0;31mNameError\u001b[0m                                 Traceback (most recent call last)",
      "\u001b[0;32m<ipython-input-1-9d86c7ff5a86>\u001b[0m in \u001b[0;36m<module>\u001b[0;34m()\u001b[0m\n\u001b[1;32m      9\u001b[0m \u001b[0mcol_1\u001b[0m \u001b[0;34m=\u001b[0m \u001b[0;36m0\u001b[0m\u001b[0;34m\u001b[0m\u001b[0m\n\u001b[1;32m     10\u001b[0m \u001b[0mpath\u001b[0m \u001b[0;34m=\u001b[0m \u001b[0;34m\"/home/adaboo/Desktop/Masters/sem4/thesis/plot_classification/*.csv\"\u001b[0m\u001b[0;34m\u001b[0m\u001b[0m\n\u001b[0;32m---> 11\u001b[0;31m \u001b[0mlabels\u001b[0m \u001b[0;34m=\u001b[0m \u001b[0mnp\u001b[0m\u001b[0;34m.\u001b[0m\u001b[0mrandom\u001b[0m\u001b[0;34m.\u001b[0m\u001b[0mchoice\u001b[0m\u001b[0;34m(\u001b[0m\u001b[0;34m[\u001b[0m\u001b[0;34m'a'\u001b[0m\u001b[0;34m,\u001b[0m \u001b[0;34m'b'\u001b[0m\u001b[0;34m,\u001b[0m \u001b[0;34m'c'\u001b[0m\u001b[0;34m]\u001b[0m\u001b[0;34m,\u001b[0m \u001b[0;36m7\u001b[0m\u001b[0;34m)\u001b[0m\u001b[0;34m\u001b[0m\u001b[0m\n\u001b[0m\u001b[1;32m     12\u001b[0m \u001b[0;34m\u001b[0m\u001b[0m\n\u001b[1;32m     13\u001b[0m \u001b[0;32mfor\u001b[0m \u001b[0mfname\u001b[0m \u001b[0;32min\u001b[0m \u001b[0mglob\u001b[0m\u001b[0;34m.\u001b[0m\u001b[0mglob\u001b[0m\u001b[0;34m(\u001b[0m\u001b[0mpath\u001b[0m\u001b[0;34m)\u001b[0m\u001b[0;34m:\u001b[0m\u001b[0;34m\u001b[0m\u001b[0m\n",
      "\u001b[0;31mNameError\u001b[0m: name 'np' is not defined"
     ]
    }
   ],
   "source": [
    "import glob\n",
    "import pandas as pd\n",
    "import os\n",
    "import matplotlib.pyplot as plt\n",
    "from pandas.api.types import is_string_dtype\n",
    "from pandas.api.types import is_numeric_dtype\n",
    "import seaborn as sns\n",
    "\n",
    "col_1 = 0\n",
    "path = \"/home/adaboo/Desktop/Masters/sem4/thesis/plot_classification/*.csv\"\n",
    "labels = np.random.choice(['a', 'b', 'c'], 7)\n",
    "\n",
    "for fname in glob.glob(path):\n",
    "    df = (pd.read_csv(fname))\n",
    "    graph_name = (os.path.basename(fname))\n",
    "    #whole of the csv file\n",
    "    for a in df:       \n",
    "        \n",
    "        if is_numeric_dtype(df.iloc[:20,col_1]):\n",
    "             x_axis = df.iloc[:20,col_1].abs().values.tolist()\n",
    "             #make them positve\n",
    "            \n",
    "             x_label = df.columns[col_1]\n",
    "             col_2 = col_1+1 \n",
    "\n",
    "             if (df.columns[-1] != df.columns[col_2]): \n",
    "                \n",
    "                 if is_numeric_dtype(df.iloc[:20,col_2]):\n",
    "                    y_axis = df.iloc[:20,col_2].abs().values.tolist()\n",
    "                    #make them positve\n",
    "                    \n",
    "                    y_label = df.columns[col_2]\n",
    "                    #plot\n",
    "                    #plotfunction(x_axis,y_axis,x_label,y_label,x_label)\n",
    "                    sns.pairplot(x_vars=x_axis, y_vars=y_axis, data=df, hue=labels, size=5)\n",
    "                    col_1 = col_2\n",
    "                    \n",
    "                 else:\n",
    "                    print(\"not numeric\")\n",
    "                    col_2 = col_1+1\n",
    "                    \n",
    "             else:\n",
    "                #it was the last column\n",
    "                if is_numeric_dtype(df.iloc[:20,col_2]):\n",
    "                    y_axis = df.iloc[:20,col_2].values.tolist()\n",
    "                    y_label = df.columns[col_2]\n",
    "                    #plot\n",
    "                    #plotfunction(x_axis,y_axis,x_label,x_label,x_label)\n",
    "                    sns.pairplot(x_vars=x_axis, y_vars=y_axis, data=df, hue=labels, size=5)\n",
    "                else:\n",
    "                    #last column but not numeric done               \n",
    "                    print(\"here\")\n",
    "\n",
    "        #not numeric\n",
    "        else:\n",
    "            col_1 +=1\n",
    "    #end"
   ]
  },
  {
   "cell_type": "code",
   "execution_count": null,
   "metadata": {
    "collapsed": true
   },
   "outputs": [],
   "source": []
  },
  {
   "cell_type": "code",
   "execution_count": null,
   "metadata": {
    "collapsed": true
   },
   "outputs": [],
   "source": []
  }
 ],
 "metadata": {
  "anaconda-cloud": {},
  "kernelspec": {
   "display_name": "Python [default]",
   "language": "python",
   "name": "python3"
  },
  "language_info": {
   "codemirror_mode": {
    "name": "ipython",
    "version": 3
   },
   "file_extension": ".py",
   "mimetype": "text/x-python",
   "name": "python",
   "nbconvert_exporter": "python",
   "pygments_lexer": "ipython3",
   "version": "3.5.4"
  }
 },
 "nbformat": 4,
 "nbformat_minor": 2
}
